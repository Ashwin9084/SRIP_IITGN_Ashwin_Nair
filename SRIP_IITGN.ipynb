{
  "nbformat": 4,
  "nbformat_minor": 0,
  "metadata": {
    "colab": {
      "name": "SRIP_IITGN.ipynb",
      "provenance": [],
      "collapsed_sections": [],
      "authorship_tag": "ABX9TyOBow7p9K3PfABT1dmJLWbz",
      "include_colab_link": true
    },
    "kernelspec": {
      "name": "python3",
      "display_name": "Python 3"
    },
    "language_info": {
      "name": "python"
    },
    "widgets": {
      "application/vnd.jupyter.widget-state+json": {
        "d8f114488be143648c0a31a7aac6f40e": {
          "model_module": "@jupyter-widgets/controls",
          "model_name": "VBoxModel",
          "model_module_version": "1.5.0",
          "state": {
            "_dom_classes": [
              "widget-interact"
            ],
            "_model_module": "@jupyter-widgets/controls",
            "_model_module_version": "1.5.0",
            "_model_name": "VBoxModel",
            "_view_count": null,
            "_view_module": "@jupyter-widgets/controls",
            "_view_module_version": "1.5.0",
            "_view_name": "VBoxView",
            "box_style": "",
            "children": [
              "IPY_MODEL_ba3cf0c83b4c4cb7bc02b805e5e760a4",
              "IPY_MODEL_5f5dfe5b97ad44c4a530908e3b67f071",
              "IPY_MODEL_bb374ebbf78c454192e8e2e2f5ed3b85",
              "IPY_MODEL_47dc11d7d30d4ba198b9ea38df083bb5",
              "IPY_MODEL_1952e74a5532483fbed299c96a1aec0d",
              "IPY_MODEL_1d35b92c9fcc4529b3783ec30c5f0e17"
            ],
            "layout": "IPY_MODEL_d0d1844d2c044302a694a491ae484f63"
          }
        },
        "ba3cf0c83b4c4cb7bc02b805e5e760a4": {
          "model_module": "@jupyter-widgets/controls",
          "model_name": "IntSliderModel",
          "model_module_version": "1.5.0",
          "state": {
            "_dom_classes": [],
            "_model_module": "@jupyter-widgets/controls",
            "_model_module_version": "1.5.0",
            "_model_name": "IntSliderModel",
            "_view_count": null,
            "_view_module": "@jupyter-widgets/controls",
            "_view_module_version": "1.5.0",
            "_view_name": "IntSliderView",
            "continuous_update": true,
            "description": "Mean_x",
            "description_tooltip": null,
            "disabled": false,
            "layout": "IPY_MODEL_25f86f495e1d40ee8a91dc3c46c127bb",
            "max": 4,
            "min": 0,
            "orientation": "horizontal",
            "readout": true,
            "readout_format": "d",
            "step": 1,
            "style": "IPY_MODEL_c2f1df4a45ea47b89c32eddbbfac2153",
            "value": 2
          }
        },
        "5f5dfe5b97ad44c4a530908e3b67f071": {
          "model_module": "@jupyter-widgets/controls",
          "model_name": "IntSliderModel",
          "model_module_version": "1.5.0",
          "state": {
            "_dom_classes": [],
            "_model_module": "@jupyter-widgets/controls",
            "_model_module_version": "1.5.0",
            "_model_name": "IntSliderModel",
            "_view_count": null,
            "_view_module": "@jupyter-widgets/controls",
            "_view_module_version": "1.5.0",
            "_view_name": "IntSliderView",
            "continuous_update": true,
            "description": "Mean_y",
            "description_tooltip": null,
            "disabled": false,
            "layout": "IPY_MODEL_10eed65b68b84512b4bfc6203efc3814",
            "max": 4,
            "min": 0,
            "orientation": "horizontal",
            "readout": true,
            "readout_format": "d",
            "step": 1,
            "style": "IPY_MODEL_e9449c0f1d8b4c3c984697e2f285d8b6",
            "value": 2
          }
        },
        "bb374ebbf78c454192e8e2e2f5ed3b85": {
          "model_module": "@jupyter-widgets/controls",
          "model_name": "IntSliderModel",
          "model_module_version": "1.5.0",
          "state": {
            "_dom_classes": [],
            "_model_module": "@jupyter-widgets/controls",
            "_model_module_version": "1.5.0",
            "_model_name": "IntSliderModel",
            "_view_count": null,
            "_view_module": "@jupyter-widgets/controls",
            "_view_module_version": "1.5.0",
            "_view_name": "IntSliderView",
            "continuous_update": true,
            "description": "C_var_x",
            "description_tooltip": null,
            "disabled": false,
            "layout": "IPY_MODEL_8f7f63c3b5e74fa3b08b361f336256c3",
            "max": 4,
            "min": 1,
            "orientation": "horizontal",
            "readout": true,
            "readout_format": "d",
            "step": 1,
            "style": "IPY_MODEL_a7fe720c683d43a4b5f8bbbb3e64ceee",
            "value": 2
          }
        },
        "47dc11d7d30d4ba198b9ea38df083bb5": {
          "model_module": "@jupyter-widgets/controls",
          "model_name": "IntSliderModel",
          "model_module_version": "1.5.0",
          "state": {
            "_dom_classes": [],
            "_model_module": "@jupyter-widgets/controls",
            "_model_module_version": "1.5.0",
            "_model_name": "IntSliderModel",
            "_view_count": null,
            "_view_module": "@jupyter-widgets/controls",
            "_view_module_version": "1.5.0",
            "_view_name": "IntSliderView",
            "continuous_update": true,
            "description": "C_var_y",
            "description_tooltip": null,
            "disabled": false,
            "layout": "IPY_MODEL_6d03c6eef64e43a18fc71d8ccfdbd3f3",
            "max": 4,
            "min": 1,
            "orientation": "horizontal",
            "readout": true,
            "readout_format": "d",
            "step": 1,
            "style": "IPY_MODEL_22279605d53046fcbfa541cec6cd08c8",
            "value": 2
          }
        },
        "1952e74a5532483fbed299c96a1aec0d": {
          "model_module": "@jupyter-widgets/controls",
          "model_name": "FloatSliderModel",
          "model_module_version": "1.5.0",
          "state": {
            "_dom_classes": [],
            "_model_module": "@jupyter-widgets/controls",
            "_model_module_version": "1.5.0",
            "_model_name": "FloatSliderModel",
            "_view_count": null,
            "_view_module": "@jupyter-widgets/controls",
            "_view_module_version": "1.5.0",
            "_view_name": "FloatSliderView",
            "continuous_update": true,
            "description": "r",
            "description_tooltip": null,
            "disabled": false,
            "layout": "IPY_MODEL_2542d3260acf4b92a63f593586d12bee",
            "max": 2,
            "min": 0.6,
            "orientation": "horizontal",
            "readout": true,
            "readout_format": ".2f",
            "step": 0.1,
            "style": "IPY_MODEL_4ebc7dc2382f4935b81206c29738db66",
            "value": 1.2999999999999998
          }
        },
        "1d35b92c9fcc4529b3783ec30c5f0e17": {
          "model_module": "@jupyter-widgets/output",
          "model_name": "OutputModel",
          "model_module_version": "1.0.0",
          "state": {
            "_dom_classes": [],
            "_model_module": "@jupyter-widgets/output",
            "_model_module_version": "1.0.0",
            "_model_name": "OutputModel",
            "_view_count": null,
            "_view_module": "@jupyter-widgets/output",
            "_view_module_version": "1.0.0",
            "_view_name": "OutputView",
            "layout": "IPY_MODEL_cbabde260a5444efaed45571905cc3e3",
            "msg_id": "",
            "outputs": [
              {
                "output_type": "display_data",
                "data": {
                  "text/plain": "<Figure size 540x252 with 1 Axes>",
                  "image/png": "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\n"
                },
                "metadata": {
                  "needs_background": "light"
                }
              }
            ]
          }
        },
        "d0d1844d2c044302a694a491ae484f63": {
          "model_module": "@jupyter-widgets/base",
          "model_name": "LayoutModel",
          "model_module_version": "1.2.0",
          "state": {
            "_model_module": "@jupyter-widgets/base",
            "_model_module_version": "1.2.0",
            "_model_name": "LayoutModel",
            "_view_count": null,
            "_view_module": "@jupyter-widgets/base",
            "_view_module_version": "1.2.0",
            "_view_name": "LayoutView",
            "align_content": null,
            "align_items": null,
            "align_self": null,
            "border": null,
            "bottom": null,
            "display": null,
            "flex": null,
            "flex_flow": null,
            "grid_area": null,
            "grid_auto_columns": null,
            "grid_auto_flow": null,
            "grid_auto_rows": null,
            "grid_column": null,
            "grid_gap": null,
            "grid_row": null,
            "grid_template_areas": null,
            "grid_template_columns": null,
            "grid_template_rows": null,
            "height": null,
            "justify_content": null,
            "justify_items": null,
            "left": null,
            "margin": null,
            "max_height": null,
            "max_width": null,
            "min_height": null,
            "min_width": null,
            "object_fit": null,
            "object_position": null,
            "order": null,
            "overflow": null,
            "overflow_x": null,
            "overflow_y": null,
            "padding": null,
            "right": null,
            "top": null,
            "visibility": null,
            "width": null
          }
        },
        "25f86f495e1d40ee8a91dc3c46c127bb": {
          "model_module": "@jupyter-widgets/base",
          "model_name": "LayoutModel",
          "model_module_version": "1.2.0",
          "state": {
            "_model_module": "@jupyter-widgets/base",
            "_model_module_version": "1.2.0",
            "_model_name": "LayoutModel",
            "_view_count": null,
            "_view_module": "@jupyter-widgets/base",
            "_view_module_version": "1.2.0",
            "_view_name": "LayoutView",
            "align_content": null,
            "align_items": null,
            "align_self": null,
            "border": null,
            "bottom": null,
            "display": null,
            "flex": null,
            "flex_flow": null,
            "grid_area": null,
            "grid_auto_columns": null,
            "grid_auto_flow": null,
            "grid_auto_rows": null,
            "grid_column": null,
            "grid_gap": null,
            "grid_row": null,
            "grid_template_areas": null,
            "grid_template_columns": null,
            "grid_template_rows": null,
            "height": null,
            "justify_content": null,
            "justify_items": null,
            "left": null,
            "margin": null,
            "max_height": null,
            "max_width": null,
            "min_height": null,
            "min_width": null,
            "object_fit": null,
            "object_position": null,
            "order": null,
            "overflow": null,
            "overflow_x": null,
            "overflow_y": null,
            "padding": null,
            "right": null,
            "top": null,
            "visibility": null,
            "width": null
          }
        },
        "c2f1df4a45ea47b89c32eddbbfac2153": {
          "model_module": "@jupyter-widgets/controls",
          "model_name": "SliderStyleModel",
          "model_module_version": "1.5.0",
          "state": {
            "_model_module": "@jupyter-widgets/controls",
            "_model_module_version": "1.5.0",
            "_model_name": "SliderStyleModel",
            "_view_count": null,
            "_view_module": "@jupyter-widgets/base",
            "_view_module_version": "1.2.0",
            "_view_name": "StyleView",
            "description_width": "",
            "handle_color": null
          }
        },
        "10eed65b68b84512b4bfc6203efc3814": {
          "model_module": "@jupyter-widgets/base",
          "model_name": "LayoutModel",
          "model_module_version": "1.2.0",
          "state": {
            "_model_module": "@jupyter-widgets/base",
            "_model_module_version": "1.2.0",
            "_model_name": "LayoutModel",
            "_view_count": null,
            "_view_module": "@jupyter-widgets/base",
            "_view_module_version": "1.2.0",
            "_view_name": "LayoutView",
            "align_content": null,
            "align_items": null,
            "align_self": null,
            "border": null,
            "bottom": null,
            "display": null,
            "flex": null,
            "flex_flow": null,
            "grid_area": null,
            "grid_auto_columns": null,
            "grid_auto_flow": null,
            "grid_auto_rows": null,
            "grid_column": null,
            "grid_gap": null,
            "grid_row": null,
            "grid_template_areas": null,
            "grid_template_columns": null,
            "grid_template_rows": null,
            "height": null,
            "justify_content": null,
            "justify_items": null,
            "left": null,
            "margin": null,
            "max_height": null,
            "max_width": null,
            "min_height": null,
            "min_width": null,
            "object_fit": null,
            "object_position": null,
            "order": null,
            "overflow": null,
            "overflow_x": null,
            "overflow_y": null,
            "padding": null,
            "right": null,
            "top": null,
            "visibility": null,
            "width": null
          }
        },
        "e9449c0f1d8b4c3c984697e2f285d8b6": {
          "model_module": "@jupyter-widgets/controls",
          "model_name": "SliderStyleModel",
          "model_module_version": "1.5.0",
          "state": {
            "_model_module": "@jupyter-widgets/controls",
            "_model_module_version": "1.5.0",
            "_model_name": "SliderStyleModel",
            "_view_count": null,
            "_view_module": "@jupyter-widgets/base",
            "_view_module_version": "1.2.0",
            "_view_name": "StyleView",
            "description_width": "",
            "handle_color": null
          }
        },
        "8f7f63c3b5e74fa3b08b361f336256c3": {
          "model_module": "@jupyter-widgets/base",
          "model_name": "LayoutModel",
          "model_module_version": "1.2.0",
          "state": {
            "_model_module": "@jupyter-widgets/base",
            "_model_module_version": "1.2.0",
            "_model_name": "LayoutModel",
            "_view_count": null,
            "_view_module": "@jupyter-widgets/base",
            "_view_module_version": "1.2.0",
            "_view_name": "LayoutView",
            "align_content": null,
            "align_items": null,
            "align_self": null,
            "border": null,
            "bottom": null,
            "display": null,
            "flex": null,
            "flex_flow": null,
            "grid_area": null,
            "grid_auto_columns": null,
            "grid_auto_flow": null,
            "grid_auto_rows": null,
            "grid_column": null,
            "grid_gap": null,
            "grid_row": null,
            "grid_template_areas": null,
            "grid_template_columns": null,
            "grid_template_rows": null,
            "height": null,
            "justify_content": null,
            "justify_items": null,
            "left": null,
            "margin": null,
            "max_height": null,
            "max_width": null,
            "min_height": null,
            "min_width": null,
            "object_fit": null,
            "object_position": null,
            "order": null,
            "overflow": null,
            "overflow_x": null,
            "overflow_y": null,
            "padding": null,
            "right": null,
            "top": null,
            "visibility": null,
            "width": null
          }
        },
        "a7fe720c683d43a4b5f8bbbb3e64ceee": {
          "model_module": "@jupyter-widgets/controls",
          "model_name": "SliderStyleModel",
          "model_module_version": "1.5.0",
          "state": {
            "_model_module": "@jupyter-widgets/controls",
            "_model_module_version": "1.5.0",
            "_model_name": "SliderStyleModel",
            "_view_count": null,
            "_view_module": "@jupyter-widgets/base",
            "_view_module_version": "1.2.0",
            "_view_name": "StyleView",
            "description_width": "",
            "handle_color": null
          }
        },
        "6d03c6eef64e43a18fc71d8ccfdbd3f3": {
          "model_module": "@jupyter-widgets/base",
          "model_name": "LayoutModel",
          "model_module_version": "1.2.0",
          "state": {
            "_model_module": "@jupyter-widgets/base",
            "_model_module_version": "1.2.0",
            "_model_name": "LayoutModel",
            "_view_count": null,
            "_view_module": "@jupyter-widgets/base",
            "_view_module_version": "1.2.0",
            "_view_name": "LayoutView",
            "align_content": null,
            "align_items": null,
            "align_self": null,
            "border": null,
            "bottom": null,
            "display": null,
            "flex": null,
            "flex_flow": null,
            "grid_area": null,
            "grid_auto_columns": null,
            "grid_auto_flow": null,
            "grid_auto_rows": null,
            "grid_column": null,
            "grid_gap": null,
            "grid_row": null,
            "grid_template_areas": null,
            "grid_template_columns": null,
            "grid_template_rows": null,
            "height": null,
            "justify_content": null,
            "justify_items": null,
            "left": null,
            "margin": null,
            "max_height": null,
            "max_width": null,
            "min_height": null,
            "min_width": null,
            "object_fit": null,
            "object_position": null,
            "order": null,
            "overflow": null,
            "overflow_x": null,
            "overflow_y": null,
            "padding": null,
            "right": null,
            "top": null,
            "visibility": null,
            "width": null
          }
        },
        "22279605d53046fcbfa541cec6cd08c8": {
          "model_module": "@jupyter-widgets/controls",
          "model_name": "SliderStyleModel",
          "model_module_version": "1.5.0",
          "state": {
            "_model_module": "@jupyter-widgets/controls",
            "_model_module_version": "1.5.0",
            "_model_name": "SliderStyleModel",
            "_view_count": null,
            "_view_module": "@jupyter-widgets/base",
            "_view_module_version": "1.2.0",
            "_view_name": "StyleView",
            "description_width": "",
            "handle_color": null
          }
        },
        "2542d3260acf4b92a63f593586d12bee": {
          "model_module": "@jupyter-widgets/base",
          "model_name": "LayoutModel",
          "model_module_version": "1.2.0",
          "state": {
            "_model_module": "@jupyter-widgets/base",
            "_model_module_version": "1.2.0",
            "_model_name": "LayoutModel",
            "_view_count": null,
            "_view_module": "@jupyter-widgets/base",
            "_view_module_version": "1.2.0",
            "_view_name": "LayoutView",
            "align_content": null,
            "align_items": null,
            "align_self": null,
            "border": null,
            "bottom": null,
            "display": null,
            "flex": null,
            "flex_flow": null,
            "grid_area": null,
            "grid_auto_columns": null,
            "grid_auto_flow": null,
            "grid_auto_rows": null,
            "grid_column": null,
            "grid_gap": null,
            "grid_row": null,
            "grid_template_areas": null,
            "grid_template_columns": null,
            "grid_template_rows": null,
            "height": null,
            "justify_content": null,
            "justify_items": null,
            "left": null,
            "margin": null,
            "max_height": null,
            "max_width": null,
            "min_height": null,
            "min_width": null,
            "object_fit": null,
            "object_position": null,
            "order": null,
            "overflow": null,
            "overflow_x": null,
            "overflow_y": null,
            "padding": null,
            "right": null,
            "top": null,
            "visibility": null,
            "width": null
          }
        },
        "4ebc7dc2382f4935b81206c29738db66": {
          "model_module": "@jupyter-widgets/controls",
          "model_name": "SliderStyleModel",
          "model_module_version": "1.5.0",
          "state": {
            "_model_module": "@jupyter-widgets/controls",
            "_model_module_version": "1.5.0",
            "_model_name": "SliderStyleModel",
            "_view_count": null,
            "_view_module": "@jupyter-widgets/base",
            "_view_module_version": "1.2.0",
            "_view_name": "StyleView",
            "description_width": "",
            "handle_color": null
          }
        },
        "cbabde260a5444efaed45571905cc3e3": {
          "model_module": "@jupyter-widgets/base",
          "model_name": "LayoutModel",
          "model_module_version": "1.2.0",
          "state": {
            "_model_module": "@jupyter-widgets/base",
            "_model_module_version": "1.2.0",
            "_model_name": "LayoutModel",
            "_view_count": null,
            "_view_module": "@jupyter-widgets/base",
            "_view_module_version": "1.2.0",
            "_view_name": "LayoutView",
            "align_content": null,
            "align_items": null,
            "align_self": null,
            "border": null,
            "bottom": null,
            "display": null,
            "flex": null,
            "flex_flow": null,
            "grid_area": null,
            "grid_auto_columns": null,
            "grid_auto_flow": null,
            "grid_auto_rows": null,
            "grid_column": null,
            "grid_gap": null,
            "grid_row": null,
            "grid_template_areas": null,
            "grid_template_columns": null,
            "grid_template_rows": null,
            "height": null,
            "justify_content": null,
            "justify_items": null,
            "left": null,
            "margin": null,
            "max_height": null,
            "max_width": null,
            "min_height": null,
            "min_width": null,
            "object_fit": null,
            "object_position": null,
            "order": null,
            "overflow": null,
            "overflow_x": null,
            "overflow_y": null,
            "padding": null,
            "right": null,
            "top": null,
            "visibility": null,
            "width": null
          }
        }
      }
    }
  },
  "cells": [
    {
      "cell_type": "markdown",
      "metadata": {
        "id": "view-in-github",
        "colab_type": "text"
      },
      "source": [
        "<a href=\"https://colab.research.google.com/github/Ashwin9084/SRIP_IITGN_Ashwin_Nair/blob/main/SRIP_IITGN.ipynb\" target=\"_parent\"><img src=\"https://colab.research.google.com/assets/colab-badge.svg\" alt=\"Open In Colab\"/></a>"
      ]
    },
    {
      "cell_type": "markdown",
      "source": [
        "# Imports"
      ],
      "metadata": {
        "id": "8SoJZJlGG7_Y"
      }
    },
    {
      "cell_type": "code",
      "source": [
        "import jax.numpy as jnp\n",
        "import jax\n",
        "import matplotlib.pyplot as plt\n",
        "from jax.scipy.stats import norm\n",
        "import numpy as np\n",
        "import matplotlib.pyplot as plt\n",
        "from mpl_toolkits.mplot3d import axes3d\n",
        "from matplotlib.patches import Ellipse\n",
        "import ipywidgets as widgets\n",
        "!pip install blackjax\n",
        "import blackjax \n",
        "from jax import random"
      ],
      "metadata": {
        "colab": {
          "base_uri": "https://localhost:8080/"
        },
        "id": "HbCdm-D2G7OU",
        "outputId": "d72eea0f-472e-4b3b-ed50-33bd231f50f8"
      },
      "execution_count": 142,
      "outputs": [
        {
          "output_type": "stream",
          "name": "stdout",
          "text": [
            "Requirement already satisfied: blackjax in /usr/local/lib/python3.7/dist-packages (0.4.0)\n"
          ]
        }
      ]
    },
    {
      "cell_type": "markdown",
      "source": [
        "# Task 1"
      ],
      "metadata": {
        "id": "Vf3OeeF4r90W"
      }
    },
    {
      "cell_type": "markdown",
      "source": [
        "Using JAX package to graph a bivariate distribution "
      ],
      "metadata": {
        "id": "px50PtTgE0Pi"
      }
    },
    {
      "cell_type": "code",
      "source": [
        "%matplotlib inline\n",
        "plt.rcParams[\"figure.figsize\"] = [7.50, 3.50]\n",
        "plt.rcParams[\"figure.autolayout\"] = True\n",
        "def Bi_variate_pdf(Mean_x,Mean_y,C_var_x,C_var_y,r):\n",
        "  #Delacring the limits of ploting\n",
        "  x=np.linspace(-(Mean_x+5),Mean_x+5,500)\n",
        "  y=np.linspace(-(Mean_y+5),Mean_y+5,500)\n",
        "  #Bi-variate mean and covariance\n",
        "  #MeanVec=np.array([0,0])\n",
        "  MeanVec=np.array([Mean_x,Mean_y])\n",
        "  CovMatrix=np.array([[C_var_x,r],[r,C_var_y]])\n",
        "  #CovMatrix=np.array([[1,0.6],[0.6,2]])\n",
        "  #Get 1-d pdfs for the walls\n",
        "  Z_x = norm.pdf(x , loc = MeanVec[0] , scale = CovMatrix[0,0])\n",
        "  Z_y = norm.pdf(y , loc = MeanVec[1] , scale = CovMatrix[1,1] )\n",
        "  #Get 2-d samples on the floor\n",
        "  key = jax.random.PRNGKey(0)\n",
        "  Samples = jax.random.multivariate_normal(key,MeanVec, CovMatrix, (10000,));\n",
        "  #Getting the ellipse\n",
        "  L=jnp.linalg.cholesky(CovMatrix)\n",
        "  t = jnp.linspace(0,2*jnp.pi,100)\n",
        "  C = jnp.array([[jnp.cos(t)],[jnp.sin(t)]])\n",
        "  # E1 = 1*jnp.matmul(L,C)\n",
        "  # E2 = 2*jnp.matmul(L,C)\n",
        "  E3 = 3*L[1,1]*C\n",
        "  #plotting the floor plot\n",
        "  fig = plt.figure()\n",
        "  ax=fig.gca(projection='3d')\n",
        "  ax.scatter3D(Samples[:,0],Samples[:,1],jnp.zeros(10000),s=.1) #change when general\n",
        "  ax.scatter3D(E3[0,:], E3[1,:], 1e-3+jnp.zeros((1)),alpha=0.6,color='green',linewidth=.1) #change when general\n",
        "  ax.set_xlabel('X',fontweight='bold', fontsize=14.0)\n",
        "  ax.set_ylabel('Y',fontweight='bold', fontsize=14.0)\n",
        "  ax.set_zlabel('Z',fontweight='bold', fontsize=14.0)\n",
        "  ax.set_zlim3d(0, .4)    \n",
        "  #ploting the wall plots\n",
        "  ax.plot3D(x, jnp.ones(len(x))*y[-1], Z_x,'-',linewidth=2) \n",
        "  ax.plot3D(jnp.ones(len(y))*x[0], y, Z_y,'-',linewidth=2) \n",
        "  #Making histograms\n",
        "  #making histogram of pdf(x)\n",
        "  x_histo=[x[i] for i in range(len(x)) if i % 10 == 0]\n",
        "  Z_x_histo=[Z_x[i] for i in range(len(Z_x)) if i % 10 == 0]\n",
        "  ax.bar(x_histo, Z_x_histo, zs=y[-1], zdir='y', edgecolor='black',color='white',width=.2)\n",
        "  #making histogram of pdf(y)\n",
        "  y_histo=[y[i] for i in range(len(y)) if i % 10 == 0]\n",
        "  Z_y_histo=[Z_y[i] for i in range(len(Z_y)) if i % 10 == 0]\n",
        "  ax.bar(y_histo, Z_y_histo, zs=x[0], zdir='x', edgecolor='black',color='white',width=.2)\n",
        "  plt.show()\n",
        "  # ax.set_ylim3d(-2, 2)                    \n",
        "  # ax.set_xlim3d(-2, 2)      \n",
        "Bi_variate_pdf(0,0,1,2,0.6)         "
      ],
      "metadata": {
        "colab": {
          "base_uri": "https://localhost:8080/",
          "height": 261
        },
        "id": "cElQzkz9vvo7",
        "outputId": "40633d8f-e5d4-4855-d5c1-eda23d0d8e60"
      },
      "execution_count": 314,
      "outputs": [
        {
          "output_type": "display_data",
          "data": {
            "text/plain": [
              "<Figure size 540x252 with 1 Axes>"
            ],
            "image/png": "[encoded data removed]"
          },
          "metadata": {
            "needs_background": "light"
          }
        }
      ]
    },
    {
      "cell_type": "markdown",
      "source": [
        "Implementing the ipyhton widgets to get to add interactivity in bivariate distribution, to animate a bivariate distribution."
      ],
      "metadata": {
        "id": "T6lZkp0EFKK2"
      }
    },
    {
      "cell_type": "code",
      "source": [
        "def Bi_variate_pdf(Mean_x,Mean_y,C_var_x,C_var_y,r):\n",
        "  #Delacring the limits of ploting\n",
        "  x=np.linspace(-(Mean_x+5),Mean_x+5,500)\n",
        "  y=np.linspace(-(Mean_y+5),Mean_y+5,500)\n",
        "  #Bi-variate mean and covariance\n",
        "  #MeanVec=np.array([0,0])\n",
        "  MeanVec=np.array([Mean_x,Mean_y])\n",
        "  CovMatrix=np.array([[C_var_x,r],[r,C_var_y]])\n",
        "  #CovMatrix=np.array([[1,0.6],[0.6,2]])\n",
        "  #Get 1-d pdfs for the walls\n",
        "  Z_x = norm.pdf(x , loc = MeanVec[0] , scale = CovMatrix[0,0])\n",
        "  Z_y = norm.pdf(y , loc = MeanVec[1] , scale = CovMatrix[1,1] )\n",
        "  #Get 2-d samples on the floor\n",
        "  key = jax.random.PRNGKey(0)\n",
        "  Samples = jax.random.multivariate_normal(key,MeanVec, CovMatrix, (10000,));\n",
        "  '''\n",
        "  Getting the ellipse\n",
        "  L=jnp.linalg.cholesky(CovMatrix)\n",
        "  t = jnp.linspace(0,2*jnp.pi,100)\n",
        "  C = jnp.array([[jnp.cos(t)],[jnp.sin(t)]])\n",
        "  E3 = 3*L[1,1]*C\n",
        "  '''\n",
        "  #plotting the floor plot\n",
        "  fig = plt.figure()\n",
        "  ax=fig.gca(projection='3d')\n",
        "  ax.scatter3D(Samples[:,0],Samples[:,1],jnp.zeros(10000),s=.1) #change when general\n",
        "  #ax.scatter3D(E3[0,:], E3[1,:], jnp.zeros((1)),alpha=0.2,color='green',linewidth=.1) #change when general\n",
        "  ax.set_xlabel('X',fontweight='bold', fontsize=14.0)\n",
        "  ax.set_ylabel('Y',fontweight='bold', fontsize=14.0)\n",
        "  ax.set_zlabel('Z',fontweight='bold', fontsize=14.0)\n",
        "  ax.set_zlim3d(0, .4)    \n",
        "  #ploting the wall plots\n",
        "  ax.plot3D(x, jnp.ones(len(x))*y[-1], Z_x,'-',linewidth=2) \n",
        "  ax.plot3D(jnp.ones(len(y))*x[0], y, Z_y,'-',linewidth=2) \n",
        "  #Making histograms\n",
        "  #making histogram of pdf(x)\n",
        "  x_histo=[x[i] for i in range(len(x)) if i % 15 == 0]\n",
        "  Z_x_histo=[Z_x[i] for i in range(len(Z_x)) if i % 15 == 0]\n",
        "  ax.bar(x_histo, Z_x_histo, zs=y[-1], zdir='y', edgecolor='black',color='white',width=.2)\n",
        "  #making histogram of pdf(y)\n",
        "  y_histo=[y[i] for i in range(len(y)) if i % 20 == 0]\n",
        "  Z_y_histo=[Z_y[i] for i in range(len(Z_y)) if i % 20 == 0]\n",
        "  ax.bar(y_histo, Z_y_histo, zs=x[0], zdir='x', edgecolor='black',color='white',width=.2)\n",
        "\n",
        "  # ax.set_ylim3d(-2, 2)                    \n",
        "  # ax.set_xlim3d(-2, 2)   \n",
        "widgets.interact( Bi_variate_pdf,Mean_x=(0,4),Mean_y=(0,4),C_var_x=(1,4),C_var_y=(1,4),r=(.6,2) )"
      ],
      "metadata": {
        "colab": {
          "base_uri": "https://localhost:8080/",
          "height": 438,
          "referenced_widgets": [
            "d8f114488be143648c0a31a7aac6f40e",
            "ba3cf0c83b4c4cb7bc02b805e5e760a4",
            "5f5dfe5b97ad44c4a530908e3b67f071",
            "bb374ebbf78c454192e8e2e2f5ed3b85",
            "47dc11d7d30d4ba198b9ea38df083bb5",
            "1952e74a5532483fbed299c96a1aec0d",
            "1d35b92c9fcc4529b3783ec30c5f0e17",
            "d0d1844d2c044302a694a491ae484f63",
            "25f86f495e1d40ee8a91dc3c46c127bb",
            "c2f1df4a45ea47b89c32eddbbfac2153",
            "10eed65b68b84512b4bfc6203efc3814",
            "e9449c0f1d8b4c3c984697e2f285d8b6",
            "8f7f63c3b5e74fa3b08b361f336256c3",
            "a7fe720c683d43a4b5f8bbbb3e64ceee",
            "6d03c6eef64e43a18fc71d8ccfdbd3f3",
            "22279605d53046fcbfa541cec6cd08c8",
            "2542d3260acf4b92a63f593586d12bee",
            "4ebc7dc2382f4935b81206c29738db66",
            "cbabde260a5444efaed45571905cc3e3"
          ]
        },
        "id": "DVW0aHHamwdy",
        "outputId": "84a16f98-ca12-41af-c01b-bf31b003d2a2"
      },
      "execution_count": 315,
      "outputs": [
        {
          "output_type": "display_data",
          "data": {
            "text/plain": [
              "interactive(children=(IntSlider(value=2, description='Mean_x', max=4), IntSlider(value=2, description='Mean_y'…"
            ],
            "application/vnd.jupyter.widget-view+json": {
              "version_major": 2,
              "version_minor": 0,
              "model_id": "d8f114488be143648c0a31a7aac6f40e"
            }
          },
          "metadata": {}
        },
        {
          "output_type": "execute_result",
          "data": {
            "text/plain": [
              "<function __main__.Bi_variate_pdf>"
            ]
          },
          "metadata": {},
          "execution_count": 315
        }
      ]
    },
    {
      "cell_type": "markdown",
      "source": [
        "## Refrences For Task 1\n",
        "1. [https://en.wikipedia.org/wiki/Multivariate_normal_distribution](https://en.wikipedia.org/wiki/Multivariate_normal_distribution)\n",
        "2. [https://github.com/kimfetti/Videos/blob/master/Matplotlib_Tips/12_3Dplots.ipynb](https://github.com/kimfetti/Videos/blob/master/Matplotlib_Tips/12_3Dplots.ipynb)\n",
        "3. [https://jax.readthedocs.io/en/latest/_autosummary/jax.numpy.ndarray.at.html#jax.numpy.ndarray.at](https://jax.readthedocs.io/en/latest/_autosummary/jax.numpy.ndarray.at.html#jax.numpy.ndarray.at)\n",
        "4. [https://www.youtube.com/watch?v=wb6k_T4rKBQ](https://www.youtube.com/watch?v=wb6k_T4rKBQ)"
      ],
      "metadata": {
        "id": "SWrOQ5gY-QsX"
      }
    },
    {
      "cell_type": "markdown",
      "source": [
        "# Task 2"
      ],
      "metadata": {
        "id": "h1cLKOyYdTu0"
      }
    },
    {
      "cell_type": "markdown",
      "source": [
        "Using sampling with Jax package.\n",
        "\n",
        "The result can be found upto 6th dimension after which the results took a long time in my laptop"
      ],
      "metadata": {
        "id": "F1bmfr4-x0z-"
      }
    },
    {
      "cell_type": "code",
      "source": [
        "keys = jax.random.PRNGKey(1701)"
      ],
      "metadata": {
        "id": "SNrgDxlFlU8K"
      },
      "execution_count": 31,
      "outputs": []
    },
    {
      "cell_type": "code",
      "source": [
        "\n",
        "n=int(input('Enter the Dimensions of MVN : '))\n",
        "#Box-Muller transform to covert a uniform distribtion to normal distribution\n",
        "key, subkey = jax.random.split(keys)\n",
        "u= jax.random.uniform(subkey,shape=(1000,n))\n",
        "u_1=u[:500]\n",
        "u_2=u[500:]\n",
        "x_1=jnp.sqrt(-2*jnp.log(u_1))*jnp.cos(2*jnp.pi*u_2)\n",
        "x_2=jnp.sqrt(-2*jnp.log(u_1))*jnp.sin(2*jnp.pi*u_2)\n",
        "x=jnp.concatenate((x_1,x_2),axis=0)\n",
        "\n",
        "#Taking a random mean array\n",
        "mu=jax.random.uniform(key, shape=(1,n),minval=0,maxval=n)\n",
        "print('\\n\\nThe input mean is : ', mu)\n",
        "k=1\n",
        "keys=key\n",
        "#Taking a random covariance matrix\n",
        "while k==1:\n",
        "  key, subkey = jax.random.split(keys)\n",
        "  cov=jax.random.uniform(key, shape=(n,n),minval=0,maxval=n)\n",
        "  diagonal=jax.random.uniform(key, shape=(1,1),minval=0,maxval=n)\n",
        "  for i in range(n):\n",
        "    for j in range(n):\n",
        "      if (i+j==n-1):\n",
        "          cov=cov.at[i:i+1,j:j+1].set(diagonal)\n",
        "  keys = key\n",
        "  L=jnp.linalg.cholesky(cov)\n",
        "  if (jnp.all(jnp.isnan(L)==False)):\n",
        "    break\n",
        "print('The input covariance matrix is : \\n',cov,'\\n\\n')\n",
        "y=mu+x@L.T\n",
        "keys =key\n",
        "print('The mean from the samples is : ',jnp.mean(y, axis= 0))\n",
        "print('The covariacne matrix from the samples is : \\n',jnp.cov(y.T))"
      ],
      "metadata": {
        "colab": {
          "base_uri": "https://localhost:8080/"
        },
        "id": "Ta-9N5Tnddb_",
        "outputId": "0d60abcd-291b-460f-81ce-070606b7e87f"
      },
      "execution_count": 70,
      "outputs": [
        {
          "output_type": "stream",
          "name": "stdout",
          "text": [
            "Enter the Dimensions of MVN : 6\n",
            "\n",
            "\n",
            "The input mean is :  [[3.45184   4.655738  1.3392656 3.4143913 1.5952299 5.4793496]]\n",
            "The input covariance matrix is : \n",
            " [[5.7266006  1.2194188  3.9259722  1.2482564  0.05846357 3.008503  ]\n",
            " [2.8071127  4.4642186  4.756916   3.1097596  3.008503   0.6493113 ]\n",
            " [2.6487243  0.71445894 5.679147   3.008503   0.8019383  3.361403  ]\n",
            " [3.6088085  5.535058   3.008503   5.70214    3.2110605  5.315612  ]\n",
            " [1.6814032  3.008503   3.719294   3.60457    3.7139611  4.7356753 ]\n",
            " [3.008503   4.251882   1.1014774  2.839275   0.40700912 5.545336  ]] \n",
            "\n",
            "\n",
            "The mean from the samples is :  [3.5067227 4.7363462 1.3608983 3.4567018 1.6230857 5.4346294]\n",
            "The covariacne matrix from the samples is : \n",
            " [[5.667675   2.0053196  3.3079855  2.6329126  0.80787027 3.2019455 ]\n",
            " [2.0053196  4.539183   2.7127438  4.4171205  3.1314197  2.5596654 ]\n",
            " [3.3079855  2.7127438  5.650113   2.9669979  2.28701    2.2981734 ]\n",
            " [2.6329126  4.4171205  2.9669979  5.792814   3.4642305  4.231084  ]\n",
            " [0.80787027 3.1314197  2.28701    3.4642305  3.9241922  2.6726046 ]\n",
            " [3.2019455  2.5596654  2.2981734  4.231084   2.6726046  5.6621194 ]]\n"
          ]
        }
      ]
    },
    {
      "cell_type": "markdown",
      "source": [
        "## Refrences For Task 2\n",
        "1. [https://www.youtube.com/watch?v=4fVQrH65aWU](https://www.youtube.com/watch?v=4fVQrH65aWU)\n",
        "2. [https://github.com/google/jax/issues/775](https://github.com/google/jax/issues/775)\n",
        "3. [https://en.wikipedia.org/wiki/Multivariate_normal_distribution](https://en.wikipedia.org/wiki/Multivariate_normal_distribution)"
      ],
      "metadata": {
        "id": "ktz6_AGzAPdx"
      }
    },
    {
      "cell_type": "markdown",
      "source": [
        "# Task 3"
      ],
      "metadata": {
        "id": "zNVl5Zq6RSMI"
      }
    },
    {
      "cell_type": "markdown",
      "source": [
        "Using Jax package to implement a neural network from scratch"
      ],
      "metadata": {
        "id": "n4Mfxvf5GAvU"
      }
    },
    {
      "cell_type": "code",
      "source": [
        "\n",
        "import jax.numpy as jnp\n",
        "from jax.scipy.special import logsumexp\n",
        "import jax\n",
        "from jax import jit, vmap, pmap, grad, value_and_grad\n",
        "\n",
        "from torchvision.datasets import MNIST\n",
        "from torch.utils.data import DataLoader"
      ],
      "metadata": {
        "id": "HmYWLps2RaH3"
      },
      "execution_count": 86,
      "outputs": []
    },
    {
      "cell_type": "code",
      "source": [
        "seed = 0\n",
        "mnist_img_size = (28, 28)\n",
        "\n",
        "def init_MLP(layer_widths, parent_key, scale=0.01):\n",
        "\n",
        "    params = []\n",
        "    keys = jax.random.split(parent_key, num=len(layer_widths)-1)\n",
        "\n",
        "    for in_width, out_width, key in zip(layer_widths[:-1], layer_widths[1:], keys):\n",
        "        weight_key, bias_key = jax.random.split(key)\n",
        "        params.append([\n",
        "                       scale*jax.random.normal(weight_key, shape=(out_width, in_width)),\n",
        "                       scale*jax.random.normal(bias_key, shape=(out_width,))\n",
        "                       ]\n",
        "        )\n",
        "\n",
        "    return params\n",
        "\n",
        "# test\n",
        "key = jax.random.PRNGKey(seed)\n",
        "MLP_params = init_MLP([784, 512, 256, 10], key)\n",
        "print(jax.tree_map(lambda x: x.shape, MLP_params))"
      ],
      "metadata": {
        "colab": {
          "base_uri": "https://localhost:8080/"
        },
        "id": "1TnrdNpFTEDU",
        "outputId": "347d4f0f-dff3-49a6-b7e0-8563e6338b92"
      },
      "execution_count": 87,
      "outputs": [
        {
          "output_type": "stream",
          "name": "stdout",
          "text": [
            "[[(512, 784), (512,)], [(256, 512), (256,)], [(10, 256), (10,)]]\n"
          ]
        }
      ]
    },
    {
      "cell_type": "code",
      "source": [
        "def MLP_predict(params, x):\n",
        "    hidden_layers = params[:-1]\n",
        "\n",
        "    activation = x\n",
        "    for w, b in hidden_layers:\n",
        "        activation = jax.nn.relu(jnp.dot(w, activation) + b)\n",
        "\n",
        "    w_last, b_last = params[-1]\n",
        "    logits = jnp.dot(w_last, activation) + b_last\n",
        "\n",
        "    # log(exp(o1)) - log(sum(exp(o1), exp(o2), ..., exp(o10)))\n",
        "    # log( exp(o1) / sum(...) )\n",
        "    return logits - logsumexp(logits)\n",
        "\n",
        "# tests\n",
        "\n",
        "# test single example\n",
        "'''\n",
        "dummy_img_flat = np.random.randn(np.prod(mnist_img_size))\n",
        "print(dummy_img_flat.shape)\n",
        "\n",
        "prediction = MLP_predict(MLP_params, dummy_img_flat)\n",
        "print(prediction.shape)\n",
        "'''\n",
        "# test batched function\n",
        "batched_MLP_predict = vmap(MLP_predict, in_axes=(None, 0))\n",
        "\n",
        "dummy_imgs_flat = jax.random.normal(key ,shape=(16, jnp.prod(jnp.array(mnist_img_size))))\n",
        "print(dummy_imgs_flat.shape)\n",
        "predictions = batched_MLP_predict(MLP_params, dummy_imgs_flat)\n",
        "print(predictions.shape)"
      ],
      "metadata": {
        "colab": {
          "base_uri": "https://localhost:8080/"
        },
        "id": "41c-I76uTHbR",
        "outputId": "7c667b4e-6d47-459e-e2df-b47d407b729f"
      },
      "execution_count": 88,
      "outputs": [
        {
          "output_type": "stream",
          "name": "stdout",
          "text": [
            "(16, 784)\n",
            "(16, 10)\n"
          ]
        }
      ]
    },
    {
      "cell_type": "markdown",
      "source": [
        "Adding the MNIST data set"
      ],
      "metadata": {
        "id": "D8Jpo-Nk07XK"
      }
    },
    {
      "cell_type": "markdown",
      "source": [
        "JAX is laser-focused on program transformations and accelerator-backed NumPy, so Jax don’t include data loading or munging in the JAX library. There are already a lot of great data loaders out there, so let’s just use them instead of reinventing anything"
      ],
      "metadata": {
        "id": "CK3JbRMn65Vp"
      }
    },
    {
      "cell_type": "code",
      "source": [
        "def custom_transform(x):\n",
        "    return jnp.ravel(jnp.array(x, dtype=np.float32))\n",
        "\n",
        "def custom_collate_fn(batch):\n",
        "    transposed_data = list(zip(*batch))\n",
        "\n",
        "    labels = jnp.array(transposed_data[1])\n",
        "    imgs = jnp.stack(transposed_data[0])\n",
        "\n",
        "    return imgs, labels\n",
        "\n",
        "batch_size = 128\n",
        "train_dataset = MNIST(root='train_mnist', train=True, download=True, transform=custom_transform)\n",
        "test_dataset = MNIST(root='test_mnist', train=False, download=True, transform=custom_transform)\n",
        "\n",
        "train_loader = DataLoader(train_dataset, batch_size, shuffle=True, collate_fn=custom_collate_fn, drop_last=True)\n",
        "test_loader = DataLoader(test_dataset, batch_size, shuffle=False, collate_fn=custom_collate_fn, drop_last=True)\n",
        "\n",
        "# test\n",
        "batch_data = next(iter(train_loader))\n",
        "imgs = batch_data[0]\n",
        "lbls = batch_data[1]\n",
        "print(imgs.shape, imgs[0].dtype, lbls.shape, lbls[0].dtype)\n",
        "\n",
        "# optimization - loading the whole dataset into memory\n",
        "train_images = jnp.array(train_dataset.data).reshape(len(train_dataset), -1)\n",
        "train_lbls = jnp.array(train_dataset.targets)\n",
        "\n",
        "test_images = jnp.array(test_dataset.data).reshape(len(test_dataset), -1)\n",
        "test_lbls = jnp.array(test_dataset.targets)"
      ],
      "metadata": {
        "colab": {
          "base_uri": "https://localhost:8080/"
        },
        "id": "WHxyVOxHTNZj",
        "outputId": "5aed94f9-0477-4ef1-e017-e3893fcf8f8d"
      },
      "execution_count": 112,
      "outputs": [
        {
          "output_type": "stream",
          "name": "stdout",
          "text": [
            "(128, 784) float32 (128,) int32\n"
          ]
        }
      ]
    },
    {
      "cell_type": "code",
      "source": [
        "num_epochs = 5\n",
        "\n",
        "def loss_fn(params, imgs, gt_lbls):\n",
        "    predictions = batched_MLP_predict(params, imgs)\n",
        "\n",
        "    return -jnp.mean(predictions * gt_lbls)\n",
        "\n",
        "def accuracy(params, dataset_imgs, dataset_lbls):\n",
        "    pred_classes = jnp.argmax(batched_MLP_predict(params, dataset_imgs), axis=1)\n",
        "    return jnp.mean(dataset_lbls == pred_classes)\n",
        "\n",
        "@jit\n",
        "def update(params, imgs, gt_lbls, lr=0.01):\n",
        "    loss, grads = value_and_grad(loss_fn)(params, imgs, gt_lbls)\n",
        "\n",
        "    return loss, jax.tree_multimap(lambda p, g: p - lr*g, params, grads)\n",
        "\n",
        "# Create a MLP and the matplot lib array's\n",
        "MLP_params = init_MLP([np.prod(mnist_img_size), 512, 256, len(MNIST.classes)], key)\n",
        "x=[]\n",
        "y=[]\n",
        "i=0\n",
        "for epoch in range(num_epochs):\n",
        "\n",
        "    for cnt, (imgs, lbls) in enumerate(train_loader):\n",
        "\n",
        "        gt_labels = jax.nn.one_hot(lbls, len(MNIST.classes))\n",
        "        \n",
        "        loss, MLP_params = update(MLP_params, imgs, gt_labels)\n",
        "        y.append(loss)\n",
        "        x.append(i)\n",
        "        i=i+1\n",
        "        if cnt % 50 == 0:\n",
        "            print(loss)\n",
        "\n",
        "    print(f'Epoch {epoch}, train acc = {accuracy(MLP_params, train_images, train_lbls)} test acc = {accuracy(MLP_params, test_images, test_lbls)}')\n"
      ],
      "metadata": {
        "colab": {
          "base_uri": "https://localhost:8080/"
        },
        "id": "CszqDU0lTUDo",
        "outputId": "ee337655-9324-449e-bf4a-e4974aec650d"
      },
      "execution_count": 90,
      "outputs": [
        {
          "output_type": "stream",
          "name": "stdout",
          "text": [
            "0.24464977\n",
            "0.103567794\n",
            "0.05411617\n",
            "0.047099266\n",
            "0.042515796\n",
            "0.042455535\n",
            "0.048368245\n",
            "0.027139474\n",
            "0.04181241\n",
            "0.02767151\n",
            "Epoch 0, train acc = 0.9145833253860474 test acc = 0.9182999730110168\n",
            "0.030334545\n",
            "0.03467474\n",
            "0.02635169\n",
            "0.026174247\n",
            "0.028857661\n",
            "0.02409081\n",
            "0.024031058\n",
            "0.019704647\n",
            "0.022906441\n",
            "0.017735\n",
            "Epoch 1, train acc = 0.9346166849136353 test acc = 0.933899998664856\n",
            "0.025881095\n",
            "0.019768551\n",
            "0.019062422\n",
            "0.017293612\n",
            "0.022191165\n",
            "0.01723764\n",
            "0.01875918\n",
            "0.022896577\n",
            "0.012090932\n",
            "0.023271604\n",
            "Epoch 2, train acc = 0.9456499814987183 test acc = 0.9420999884605408\n",
            "0.011012797\n",
            "0.02036891\n",
            "0.019959057\n",
            "0.018638764\n",
            "0.024908703\n",
            "0.018391578\n",
            "0.014372051\n",
            "0.020492455\n",
            "0.007940419\n",
            "0.028727084\n",
            "Epoch 3, train acc = 0.954200029373169 test acc = 0.9502999782562256\n",
            "0.020254565\n",
            "0.01773822\n",
            "0.012966781\n",
            "0.010275202\n",
            "0.017206697\n",
            "0.0105687445\n",
            "0.02183803\n",
            "0.014369083\n",
            "0.009218234\n",
            "0.022510892\n",
            "Epoch 4, train acc = 0.9596333503723145 test acc = 0.9550999999046326\n"
          ]
        }
      ]
    },
    {
      "cell_type": "markdown",
      "source": [
        "\n",
        "\n",
        "```\n",
        "## This is formatted as code\n",
        "```\n",
        "\n",
        "Loss function vs Iterations"
      ],
      "metadata": {
        "id": "2l73tmRoGQKY"
      }
    },
    {
      "cell_type": "code",
      "source": [
        "%matplotlib inline\n",
        "plt.xlabel('Iterations',fontweight='bold') \n",
        "plt.ylabel('Loss',fontweight='bold')  \n",
        "plt.title('Loss function vs Iterations',fontweight='bold')\n",
        "plt.plot(x,y)\n",
        "plt.show()"
      ],
      "metadata": {
        "colab": {
          "base_uri": "https://localhost:8080/",
          "height": 295
        },
        "id": "M-WB_0tVGP4k",
        "outputId": "052998b4-259d-46f2-c43e-fbbd5231c84a"
      },
      "execution_count": 98,
      "outputs": [
        {
          "output_type": "display_data",
          "data": {
            "text/plain": [
              "<Figure size 432x288 with 1 Axes>"
            ],
            "image/png": "[encoded data removed]"
          },
          "metadata": {
            "needs_background": "light"
          }
        }
      ]
    },
    {
      "cell_type": "code",
      "source": [
        "imgs, lbls = next(iter(test_loader))\n",
        "rand=np.random.randint(0,len(imgs)-1)\n",
        "img = imgs[rand].reshape(mnist_img_size)\n",
        "gt_lbl = lbls[rand]\n",
        "#print(img.shape)\n",
        "\n",
        "import matplotlib.pyplot as plt\n",
        "\n",
        "pred = jnp.argmax(MLP_predict(MLP_params, np.ravel(img)))\n",
        "print('predicted number', pred)\n",
        "print('Labeled number', gt_lbl)\n",
        "\n",
        "plt.imshow(img); plt.show()"
      ],
      "metadata": {
        "colab": {
          "base_uri": "https://localhost:8080/",
          "height": 300
        },
        "id": "ibxWFoX_TVNl",
        "outputId": "969a7e51-f022-420f-cd28-ab31806fe3e2"
      },
      "execution_count": 113,
      "outputs": [
        {
          "output_type": "stream",
          "name": "stdout",
          "text": [
            "predicted number 1\n",
            "Labeled number 1\n"
          ]
        },
        {
          "output_type": "display_data",
          "data": {
            "text/plain": [
              "<Figure size 432x288 with 1 Axes>"
            ],
            "image/png": "[encoded data removed]"
          },
          "metadata": {
            "needs_background": "light"
          }
        }
      ]
    },
    {
      "cell_type": "markdown",
      "source": [
        "## Refrences For Task 3\n",
        "1. [https://github.com/google/jax/blob/main/examples/mnist_classifier_fromscratch.py](https://github.com/google/jax/blob/main/examples/mnist_classifier_fromscratch.py)\n",
        "2. [https://jax.readthedocs.io/en/latest/notebooks/Neural_Network_and_Data_Loading.html](https://jax.readthedocs.io/en/latest/notebooks/Neural_Network_and_Data_Loading.html)\n",
        "3. [https://roberttlange.github.io/posts/2020/03/blog-post-10/](https://roberttlange.github.io/posts/2020/03/blog-post-10/)"
      ],
      "metadata": {
        "id": "KO_5tBZyCkXU"
      }
    },
    {
      "cell_type": "markdown",
      "source": [
        "# Task 4"
      ],
      "metadata": {
        "id": "nsKk00oT5I8a"
      }
    },
    {
      "cell_type": "markdown",
      "source": [
        " Creation of 1-D Liner data set"
      ],
      "metadata": {
        "id": "LdIzv3UFBTod"
      }
    },
    {
      "cell_type": "code",
      "source": [
        "keys = jax.random.PRNGKey(1701)"
      ],
      "metadata": {
        "id": "Dy7zAOB2stG0"
      },
      "execution_count": 115,
      "outputs": []
    },
    {
      "cell_type": "code",
      "source": [
        "key, subkey = jax.random.split(keys)\n",
        "Noise=200\n",
        "n=Noise\n",
        "rands = jax.random.uniform(key, shape=(n, ), minval=-1, maxval=1)\n",
        "\n",
        "x = jnp.ones((n, 2))\n",
        "x = x.at[:,0].set(rands)\n",
        "# Fix our \"true\" slope and bias terms\n",
        "slope, bias = (3, 2)\n",
        "beta_true = jnp.array((slope, bias))\n",
        "errs = random.normal(subkey, shape=(n, ))\n",
        "y = (x @ beta_true) + errs\n",
        "x=x[:, 0]\n",
        "keys =key\n",
        "print('Actual mean of the given sample : ',jnp.mean(y))\n",
        "print('Actual standard deviation of the given sample : ',jnp.std(y),'\\n\\n')\n",
        "\n",
        "\n",
        "fig = plt.figure(figsize=(7, 7))\n",
        "ax = fig.add_subplot(111, xlabel=\"x\", ylabel=\"y\", title=\" 1-D Linear Dataset With Added Noise\")\n",
        "ax.plot(x, y, \"x\", label=\"sampled data\")\n",
        "\n",
        "\n",
        "\n"
      ],
      "metadata": {
        "colab": {
          "base_uri": "https://localhost:8080/",
          "height": 545
        },
        "id": "yfcuAFWGiyPP",
        "outputId": "b624f1dc-7acc-465a-b9c5-f8d61ff34840"
      },
      "execution_count": 220,
      "outputs": [
        {
          "output_type": "stream",
          "name": "stdout",
          "text": [
            "Actual mean of the given sample :  1.8485674\n",
            "Actual standard deviation of the given sample :  1.9805337 \n",
            "\n",
            "\n"
          ]
        },
        {
          "output_type": "execute_result",
          "data": {
            "text/plain": [
              "[<matplotlib.lines.Line2D at 0x7f7398a60350>]"
            ]
          },
          "metadata": {},
          "execution_count": 220
        },
        {
          "output_type": "display_data",
          "data": {
            "text/plain": [
              "<Figure size 504x504 with 1 Axes>"
            ],
            "image/png": "[encoded data removed]"
          },
          "metadata": {
            "needs_background": "light"
          }
        }
      ]
    },
    {
      "cell_type": "markdown",
      "source": [
        "Use of HMC blackjax sampler"
      ],
      "metadata": {
        "id": "-tB3ds-GjOrn"
      }
    },
    {
      "cell_type": "code",
      "source": [
        "print('Actual mean of the given sample : ',jnp.mean(y))\n",
        "print('Actual standard deviation of the given sample : ',jnp.std(y),'\\n\\n')\n",
        "\n",
        "def logprob_fn(loc, scale, observed=y):\n",
        "    \"\"\"Univariate Normal\"\"\"\n",
        "    logpdf = norm.logpdf(y, loc, scale)\n",
        "    return jnp.sum(logpdf)\n",
        "\n",
        "\n",
        "logprob = lambda x: logprob_fn(**x)\n",
        "\n",
        "inv_mass_matrix = np.array([0.5, 0.5])\n",
        "num_integration_steps = 60\n",
        "step_size = 1e-3\n",
        "\n",
        "hmc = blackjax.hmc(logprob, step_size, inv_mass_matrix, num_integration_steps)\n",
        "\n",
        "\n",
        "initial_position = {\"loc\": 2.0, \"scale\": 1.0}\n",
        "initial_state = hmc.init(initial_position)\n",
        "\n",
        "\n",
        "def inference_loop(rng_key, kernel, initial_state, num_samples):\n",
        "    @jax.jit\n",
        "    def one_step(state, rng_key):\n",
        "        state, _ = kernel(rng_key, state)\n",
        "        return state, state\n",
        "\n",
        "    keys = jax.random.split(rng_key, num_samples)\n",
        "    _, states = jax.lax.scan(one_step, initial_state, keys)\n",
        "\n",
        "    return states\n",
        "\n",
        "\n",
        "hmc_kernel = jax.jit(hmc.step)\n",
        "rng_key = jax.random.PRNGKey(0)\n",
        "states = inference_loop(rng_key, hmc_kernel, initial_state, 10_000)\n",
        "\n",
        "loc_samples = states.position[\"loc\"].block_until_ready()\n",
        "scale_samples = states.position[\"scale\"]\n",
        "\n",
        "print('Predicted mean of the given sample : ',jnp.mean(scale_samples))\n",
        "print('Predicted Standard deviation of the given sample : ',jnp.mean(loc_samples),'\\n\\n')\n",
        "\n",
        "\n",
        "\n",
        "fig, (ax, ax1) = plt.subplots(ncols=2, figsize=(15, 6))\n",
        "ax.plot(loc_samples)\n",
        "ax.set_xlabel(\"Samples\")\n",
        "ax.set_ylabel(\"Mean\")\n",
        "\n",
        "ax1.plot(scale_samples)\n",
        "ax1.set_xlabel(\"Samples\")\n",
        "ax1.set_ylabel(\"Standard Deviation\")"
      ],
      "metadata": {
        "colab": {
          "base_uri": "https://localhost:8080/",
          "height": 548
        },
        "id": "gCsrE69mCuHx",
        "outputId": "3aa55af7-b121-416b-fcef-7226b8ef7ce6"
      },
      "execution_count": 222,
      "outputs": [
        {
          "output_type": "stream",
          "name": "stdout",
          "text": [
            "Actual mean of the given sample :  1.8485674\n",
            "Actual standard deviation of the given sample :  1.9805337 \n",
            "\n",
            "\n",
            "Predicted mean of the given sample :  1.9970218\n",
            "Predicted Standard deviation of the given sample :  1.858673 \n",
            "\n",
            "\n"
          ]
        },
        {
          "output_type": "execute_result",
          "data": {
            "text/plain": [
              "Text(0, 0.5, 'Standard Deviation')"
            ]
          },
          "metadata": {},
          "execution_count": 222
        },
        {
          "output_type": "display_data",
          "data": {
            "text/plain": [
              "<Figure size 1080x432 with 2 Axes>"
            ],
            "image/png": "[encoded data removed]"
          },
          "metadata": {
            "needs_background": "light"
          }
        }
      ]
    },
    {
      "cell_type": "markdown",
      "source": [
        "## Refrences For Task 4\n",
        "1. [https://coax.readthedocs.io/en/latest/examples/linear_regression/jax.html](https://coax.readthedocs.io/en/latest/examples/linear_regression/jax.html)\n",
        "2. [https://docs.pymc.io/en/v3/pymc-examples/examples/generalized_linear_models/GLM-linear.html](https://docs.pymc.io/en/v3/pymc-examples/examples/generalized_linear_models/GLM-linear.html)\n",
        "2. [https://blackjax-devs.github.io/blackjax/examples/Introduction.html#hmc](https://blackjax-devs.github.io/blackjax/examples/Introduction.html#hmc)"
      ],
      "metadata": {
        "id": "M1lR2Q-lDKrd"
      }
    }
  ]
}